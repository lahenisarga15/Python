{
  "nbformat": 4,
  "nbformat_minor": 0,
  "metadata": {
    "colab": {
      "name": "loops.ipynb",
      "provenance": [],
      "collapsed_sections": [],
      "authorship_tag": "ABX9TyP90gsWrUoDIgYvXNCdDHgO",
      "include_colab_link": true
    },
    "kernelspec": {
      "name": "python3",
      "display_name": "Python 3"
    },
    "language_info": {
      "name": "python"
    }
  },
  "cells": [
    {
      "cell_type": "markdown",
      "metadata": {
        "id": "view-in-github",
        "colab_type": "text"
      },
      "source": [
        "<a href=\"https://colab.research.google.com/github/lahenisarga15/Python/blob/main/loops.ipynb\" target=\"_parent\"><img src=\"https://colab.research.google.com/assets/colab-badge.svg\" alt=\"Open In Colab\"/></a>"
      ]
    },
    {
      "cell_type": "code",
      "execution_count": null,
      "metadata": {
        "colab": {
          "base_uri": "https://localhost:8080/"
        },
        "id": "XGnqEaroK-vP",
        "outputId": "bf540e18-b4d5-431e-e861-112065bf2bf3"
      },
      "outputs": [
        {
          "output_type": "stream",
          "name": "stdout",
          "text": [
            "n i s a r g a   l a h e "
          ]
        }
      ],
      "source": [
        "#programme performed to print loop\n",
        "#programme performed by nisarga lahe\n",
        "for j in 'nisarga lahe':\n",
        "  print(j, end=\" \")"
      ]
    },
    {
      "cell_type": "code",
      "source": [
        "#python programme to perform loop addition\n",
        "#programme performed bt nisarga lahe \n",
        "s=0\n",
        "for i in range (0,11):\n",
        "  s=s+i\n",
        "  print(s)"
      ],
      "metadata": {
        "colab": {
          "base_uri": "https://localhost:8080/"
        },
        "id": "cBFbx7yiOF7Z",
        "outputId": "c082b4cc-1e72-41da-9c69-47191ce13cac"
      },
      "execution_count": null,
      "outputs": [
        {
          "output_type": "stream",
          "name": "stdout",
          "text": [
            "0\n",
            "1\n",
            "3\n",
            "6\n",
            "10\n",
            "15\n",
            "21\n",
            "28\n",
            "36\n",
            "45\n",
            "55\n"
          ]
        }
      ]
    }
  ]
}